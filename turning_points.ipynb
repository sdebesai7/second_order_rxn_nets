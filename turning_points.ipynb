{
 "cells": [
  {
   "cell_type": "code",
   "execution_count": null,
   "metadata": {},
   "outputs": [],
   "source": [
    "#testing reaction network code\n",
    "import jax\n",
    "import jax.numpy as jnp\n",
    "import numpy as np\n",
    "import matplotlib.pyplot as plt\n",
    "from diffrax import diffeqsolve, ODETerm, Tsit5, SaveAt, Kvaerno3, PIDController\n",
    "import optax  \n",
    "import pickle as pkl\n",
    "#from reaction_nets import rxn_net\n",
    "from functools import partial\n",
    "import random\n",
    "#from modified_reaction_nets import random_rxn_net\n",
    "from reaction_nets import random_rxn_net\n",
    "from rxn_nets_old import rxn_net"
   ]
  },
  {
   "cell_type": "code",
   "execution_count": null,
   "metadata": {},
   "outputs": [],
   "source": [
    "def profile(rxn, params, initial_conditions, all_features, t_points):\n",
    "    E, B, F=params\n",
    "    solns=[]\n",
    "    for F_a in all_features:\n",
    "        sol_F_a=rxn.integrate(solver=Tsit5(), stepsize_controller=PIDController(0.5, 1), t_points=t_points, dt0=0.1, initial_conditions=initial_conditions, args=(E, B, F, F_a,), max_steps=10000) \n",
    "        solns.append(sol_F_a.ys[-1].copy())\n",
    "    return solns"
   ]
  },
  {
   "cell_type": "code",
   "execution_count": null,
   "metadata": {},
   "outputs": [],
   "source": [
    "def_count_turning_points(profile):\n",
    "    count=0\n",
    "    \n",
    "    return count"
   ]
  },
  {
   "cell_type": "code",
   "execution_count": null,
   "metadata": {},
   "outputs": [],
   "source": [
    "all_features=jnp.linspace(-20, 20, 50)"
   ]
  },
  {
   "cell_type": "code",
   "execution_count": null,
   "metadata": {},
   "outputs": [],
   "source": []
  }
 ],
 "metadata": {
  "language_info": {
   "name": "python"
  }
 },
 "nbformat": 4,
 "nbformat_minor": 2
}
