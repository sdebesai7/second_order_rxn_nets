{
 "cells": [
  {
   "cell_type": "code",
   "execution_count": 1,
   "metadata": {},
   "outputs": [],
   "source": [
    "#testing reaction network code\n",
    "import jax\n",
    "import jax.numpy as jnp\n",
    "import numpy as np\n",
    "import matplotlib.pyplot as plt\n",
    "from diffrax import diffeqsolve, ODETerm, Tsit5, SaveAt, Kvaerno3, PIDController\n",
    "import optax  \n",
    "import pickle as pkl\n",
    "from reaction_nets import rxn_net\n",
    "from functools import partial"
   ]
  },
  {
   "cell_type": "markdown",
   "metadata": {},
   "source": [
    "# Testing the triangle toplogy parameterization"
   ]
  },
  {
   "cell_type": "code",
   "execution_count": 77,
   "metadata": {},
   "outputs": [],
   "source": [
    "jax.config.update(\"jax_enable_x64\", True)"
   ]
  },
  {
   "cell_type": "code",
   "execution_count": 78,
   "metadata": {},
   "outputs": [],
   "source": [
    "#generate flow profiles with params cal uses\n",
    "rxn=rxn_net('triangle_a')\n",
    "t_points = jnp.linspace(0.0, 10.0, 200)\n",
    "all_features=jnp.linspace(-20, 20, 50)\n",
    "initial_conditions = jnp.log(jnp.array([0.3, 0.4, 0.3]))"
   ]
  },
  {
   "cell_type": "code",
   "execution_count": 79,
   "metadata": {},
   "outputs": [],
   "source": [
    "initial_params=jnp.array([0.5, 0.5, 0.5, 0.5, 0.5, 0.5, 0.5, 0.5, 0.5, 0.5, 0.5, 0.5])\n",
    "true_params=-1*jnp.array([0, 0, 0, np.log(1), 0, np.log(10), np.log(1), 0, np.log(0.1), np.log(0.05), 0, np.log(4)])\n",
    "file = open('data/train/triangle_a_training_data', 'rb')\n",
    "data=pkl.load(file)\n",
    "file.close()"
   ]
  },
  {
   "cell_type": "code",
   "execution_count": 80,
   "metadata": {},
   "outputs": [],
   "source": [
    "optimized_params=data['optimized_params']"
   ]
  },
  {
   "cell_type": "code",
   "execution_count": 81,
   "metadata": {},
   "outputs": [],
   "source": [
    "def profile(params, initial_conditions, all_features):\n",
    "    solns=[]\n",
    "    for feature in all_features:\n",
    "        all_params=jnp.append(params, feature)\n",
    "        solution = rxn.integrate(solver=Tsit5(), stepsize_controller=PIDController(0.005, 0.01), t_points=t_points, dt0=0.001, initial_conditions=initial_conditions, args=all_params, max_steps=10000)\n",
    "        solns.append(solution.ys[-1].copy())\n",
    "    return jnp.array(solns)"
   ]
  },
  {
   "cell_type": "code",
   "execution_count": 82,
   "metadata": {},
   "outputs": [],
   "source": [
    "species_list = ['A', 'B', 'C']"
   ]
  },
  {
   "cell_type": "code",
   "execution_count": 83,
   "metadata": {},
   "outputs": [
    {
     "name": "stdout",
     "output_type": "stream",
     "text": [
      "0.5-0.5+0.25+0.0\n",
      "1.2840254166877414 1.2840254166877414 1.2840254166877414 0.7788007830714049 0.7788007830714049 0.7788007830714049\n"
     ]
    }
   ],
   "source": [
    "E_A, E_B, E_C, B_AB, F_AB, B_BA, B_AC, F_AC, B_CA, B_BC, F_BC, B_CB=initial_params\n",
    "F_BC_in=0\n",
    "F_CB_in=-F_BC_in\n",
    "F_AB_in, F_BA_in, F_AC_in,F_CA_in = 0, 0, 0, 0\n",
    "\n",
    "F_BA=-F_AB\n",
    "F_CA=-F_AC\n",
    "F_CB=-F_BC\n",
    "\n",
    "#jax.debug.print('params:{params}', params=params)\n",
    "W_AB=jnp.exp(E_A-B_AB+0.5*F_AB + 0.5*F_AB_in)\n",
    "print(f'{E_A}-{B_AB}+{0.5*F_AB}+{0.5*F_AB_in}')\n",
    "W_BA=jnp.exp(E_B-B_BA+0.5*F_BA + 0.5*F_BA_in)\n",
    "W_AC=jnp.exp(E_A-B_AC+0.5*F_AC + 0.5*F_AC_in)\n",
    "W_CA=jnp.exp(E_C-B_CA+0.5*F_CA + 0.5*F_CA_in)\n",
    "W_BC=jnp.exp(E_B-B_BC+0.5*F_BC + 0.5*F_BC_in)\n",
    "W_CB=jnp.exp(E_C-B_CB+0.5*F_CB + 0.5*F_CB_in)\n",
    "\n",
    "print(W_AB, W_AC, W_BC, W_BA, W_CA, W_CB)"
   ]
  },
  {
   "cell_type": "code",
   "execution_count": 84,
   "metadata": {},
   "outputs": [],
   "source": [
    "solns_initial= profile(initial_params, initial_conditions, all_features)"
   ]
  },
  {
   "cell_type": "code",
   "execution_count": 85,
   "metadata": {},
   "outputs": [
    {
     "name": "stdout",
     "output_type": "stream",
     "text": [
      "1.0 1.0 0.05000000000000001 10.000000000000002 0.10000000000000002 4.0\n"
     ]
    }
   ],
   "source": [
    "E_A, E_B, E_C, B_AB, F_AB, B_BA, B_AC, F_AC, B_CA, B_BC, F_BC, B_CB=true_params\n",
    "F_BC_in=0\n",
    "F_CB_in=-F_BC_in\n",
    "F_AB_in, F_BA_in, F_AC_in,F_CA_in = 0, 0, 0, 0\n",
    "\n",
    "F_BA=-F_AB\n",
    "F_CA=-F_AC\n",
    "F_CB=-F_BC\n",
    "\n",
    "#jax.debug.print('params:{params}', params=params)\n",
    "W_AB=jnp.exp(E_A-B_AB+0.5*F_AB + 0.5*F_AB_in)\n",
    "W_BA=jnp.exp(E_B-B_BA+0.5*F_BA + 0.5*F_BA_in)\n",
    "W_AC=jnp.exp(E_A-B_AC+0.5*F_AC + 0.5*F_AC_in)\n",
    "W_CA=jnp.exp(E_C-B_CA+0.5*F_CA + 0.5*F_CA_in)\n",
    "W_BC=jnp.exp(E_B-B_BC+0.5*F_BC + 0.5*F_BC_in)\n",
    "W_CB=jnp.exp(E_C-B_CB+0.5*F_CB + 0.5*F_CB_in)\n",
    "\n",
    "print(W_AB, W_AC, W_BC, W_BA, W_CA, W_CB)\n"
   ]
  },
  {
   "cell_type": "code",
   "execution_count": 86,
   "metadata": {},
   "outputs": [],
   "source": [
    "solns_true=profile(true_params, initial_conditions, all_features)"
   ]
  },
  {
   "cell_type": "code",
   "execution_count": 87,
   "metadata": {},
   "outputs": [
    {
     "name": "stdout",
     "output_type": "stream",
     "text": [
      "0.010380762167212171-0.956231436383443+0.00847779702630139+0.0\n",
      "0.39165541184885 0.4058907792399219 0.12421739585056382 1.3091706673547363 2.6611853250292286 0.7280896022305673\n"
     ]
    }
   ],
   "source": [
    "E_A, E_B, E_C, B_AB, F_AB, B_BA, B_AC, F_AC, B_CA, B_BC, F_BC, B_CB=optimized_params\n",
    "F_BC_in=0\n",
    "F_CB_in=-F_BC_in\n",
    "F_AB_in, F_BA_in, F_AC_in,F_CA_in = 0, 0, 0, 0\n",
    "\n",
    "F_BA=-F_AB\n",
    "F_CA=-F_AC\n",
    "F_CB=-F_BC\n",
    "\n",
    "#jax.debug.print('params:{params}', params=params)\n",
    "W_AB=jnp.exp(E_A-B_AB+0.5*F_AB + 0.5*F_AB_in)\n",
    "print(f'{E_A}-{B_AB}+{0.5*F_AB}+{0.5*F_AB_in}')\n",
    "W_BA=jnp.exp(E_B-B_BA+0.5*F_BA + 0.5*F_BA_in)\n",
    "W_AC=jnp.exp(E_A-B_AC+0.5*F_AC + 0.5*F_AC_in)\n",
    "W_CA=jnp.exp(E_C-B_CA+0.5*F_CA + 0.5*F_CA_in)\n",
    "W_BC=jnp.exp(E_B-B_BC+0.5*F_BC + 0.5*F_BC_in)\n",
    "W_CB=jnp.exp(E_C-B_CB+0.5*F_CB + 0.5*F_CB_in)\n",
    "\n",
    "print(W_AB, W_AC, W_BC, W_BA, W_CA, W_CB)"
   ]
  },
  {
   "cell_type": "code",
   "execution_count": 88,
   "metadata": {},
   "outputs": [],
   "source": [
    "solns_opt=profile(optimized_params, initial_conditions, all_features)"
   ]
  },
  {
   "cell_type": "code",
   "execution_count": null,
   "metadata": {},
   "outputs": [],
   "source": [
    "fig, axs=plt.subplots(3, figsize=(5, 10))\n",
    "for species, profile in zip(species_list, jnp.exp(solns_initial.T)):\n",
    "    axs[0].plot(all_features, profile, label=f'{species}')\n",
    "axs[0].plot(all_features, jnp.sum(jnp.exp(solns_initial.T), axis=0), label='total') \n",
    "\n",
    "for species, profile in zip(species_list, jnp.exp(solns_opt.T)):\n",
    "    axs[1].plot(all_features, profile, label=f'{species}')\n",
    "\n",
    "for species, profile in zip(species_list, jnp.exp(solns_true.T)):\n",
    "    axs[2].plot(all_features, profile, label=f'{species}')\n",
    "axs[2].plot(all_features, jnp.sum(jnp.exp(solns_true.T), axis=0), label='total') \n",
    "\n",
    "for i in range(3):\n",
    "    axs[i].legend(bbox_to_anchor=[1.05, 1], loc='upper left')\n",
    "    axs[i].set_xlabel(r'$F_a$')\n",
    "    axs[i].set_ylabel(r'$\\pi_i$')\n",
    "    axs[i].set_xlim(-10, 15)\n",
    "\n",
    "axs[0].set_title('Initial params')\n",
    "axs[1].set_title('optimized params')\n",
    "axs[2].set_title('True params')\n",
    "\n",
    "fig.tight_layout()"
   ]
  },
  {
   "cell_type": "markdown",
   "metadata": {},
   "source": [
    "# Generating bimodal profiles to sample training data from "
   ]
  },
  {
   "cell_type": "code",
   "execution_count": 26,
   "metadata": {},
   "outputs": [],
   "source": [
    "#sample from a mixture of two gaussians\n",
    "import numpy as np\n",
    "import matplotlib.pyplot as plt\n",
    "from scipy.stats import norm"
   ]
  },
  {
   "cell_type": "code",
   "execution_count": 27,
   "metadata": {},
   "outputs": [],
   "source": [
    "jax.config.update(\"jax_enable_x64\", True)"
   ]
  },
  {
   "cell_type": "code",
   "execution_count": 28,
   "metadata": {},
   "outputs": [],
   "source": [
    "def plot_gaussian_mixture(x, mean1, var1, mean2, var2, weights):\n",
    "    weight1, weight2=weights\n",
    "    gaussian1 = norm.pdf(x, mean1, np.sqrt(var1))\n",
    "    gaussian2 = norm.pdf(x, mean2, np.sqrt(var2))\n",
    "\n",
    "    # Mixture\n",
    "    mixture = weight1 * gaussian1 + weight2 * gaussian2\n",
    "\n",
    "    return mixture"
   ]
  },
  {
   "cell_type": "code",
   "execution_count": 35,
   "metadata": {},
   "outputs": [
    {
     "data": {
      "text/plain": [
       "[<matplotlib.lines.Line2D at 0x3006c5bd0>]"
      ]
     },
     "execution_count": 35,
     "metadata": {},
     "output_type": "execute_result"
    },
    {
     "data": {
      "image/png": "[encoded data removed]",
      "text/plain": [
       "<Figure size 640x480 with 1 Axes>"
      ]
     },
     "metadata": {},
     "output_type": "display_data"
    }
   ],
   "source": [
    "x=np.linspace(-5, 10, 1000)\n",
    "weights=np.array([0.5, 0.5])\n",
    "mean1, mean2, var1, var2=-1, 7, 1, 1\n",
    "mixture_profile= 2*plot_gaussian_mixture(x, mean1, var1, mean2, var2, weights)\n",
    "plt.plot(x, mixture_profile)\n",
    "plt.plot(x, -norm.pdf(x, 3, np.sqrt(1))+0.5)\n",
    "plt.plot(x, 1-(-norm.pdf(x, 3, np.sqrt(1))+0.5)-mixture_profile)"
   ]
  }
 ],
 "metadata": {
  "kernelspec": {
   "display_name": "rxn_nets",
   "language": "python",
   "name": "python3"
  },
  "language_info": {
   "codemirror_mode": {
    "name": "ipython",
    "version": 3
   },
   "file_extension": ".py",
   "mimetype": "text/x-python",
   "name": "python",
   "nbconvert_exporter": "python",
   "pygments_lexer": "ipython3",
   "version": "3.13.2"
  }
 },
 "nbformat": 4,
 "nbformat_minor": 2
}
